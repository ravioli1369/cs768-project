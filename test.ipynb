{
 "cells": [
  {
   "cell_type": "code",
   "execution_count": 1,
   "id": "65d4174e",
   "metadata": {},
   "outputs": [],
   "source": [
    "import numpy as np"
   ]
  },
  {
   "cell_type": "code",
   "execution_count": 2,
   "id": "f5f2deaf",
   "metadata": {},
   "outputs": [],
   "source": [
    "\n",
    "data_path = \"data/wikipedia.npz\"\n",
    "data = np.load(data_path)"
   ]
  },
  {
   "cell_type": "code",
   "execution_count": 3,
   "id": "95ea2eb5",
   "metadata": {},
   "outputs": [
    {
     "name": "stdout",
     "output_type": "stream",
     "text": [
      "['adj_data', 'adj_indices', 'adj_indptr', 'adj_shape', 'attr_data', 'attr_indices', 'attr_indptr', 'attr_shape', 'labels', 'node_names', 'class_names']\n",
      "adj_data: shape=(157474,), dtype=float64\n",
      "adj_indices: shape=(157474,), dtype=int32\n",
      "adj_indptr: shape=(157475,), dtype=int32\n",
      "adj_shape: shape=(2,), dtype=int64\n",
      "attr_data: shape=(157474, 172), dtype=float64\n",
      "attr_indices: shape=(172,), dtype=int64\n",
      "attr_indptr: shape=(157475,), dtype=int64\n",
      "attr_shape: shape=(2,), dtype=int64\n",
      "labels: shape=(157474,), dtype=int8\n",
      "node_names: shape=(157474,), dtype=<U6\n",
      "class_names: shape=(1,), dtype=<U14\n"
     ]
    }
   ],
   "source": [
    "print(data.files)  # Shows array keys inside\n",
    "for key in data.files:\n",
    "    print(f\"{key}: shape={data[key].shape}, dtype={data[key].dtype}\")\n"
   ]
  },
  {
   "cell_type": "code",
   "execution_count": 5,
   "id": "56df4991",
   "metadata": {},
   "outputs": [
    {
     "name": "stdout",
     "output_type": "stream",
     "text": [
      "Files in .npz: ['adj_data', 'adj_indices', 'adj_indptr', 'adj_shape', 'attr_data', 'attr_indices', 'attr_indptr', 'attr_shape', 'labels', 'node_names', 'class_names']\n"
     ]
    }
   ],
   "source": [
    "import numpy as np\n",
    "\n",
    "npzfile = np.load(data_path)\n",
    "print(\"Files in .npz:\", npzfile.files)\n"
   ]
  },
  {
   "cell_type": "code",
   "execution_count": 13,
   "id": "160a6447",
   "metadata": {},
   "outputs": [
    {
     "name": "stdout",
     "output_type": "stream",
     "text": [
      "ml_mooc.npy\n",
      "Type: <class 'numpy.ndarray'>\n",
      "Shape: (411750, 4)\n",
      "Dtype: float64\n",
      "\n",
      "ml_mooc_nodes.npy\n",
      "Type: <class 'numpy.ndarray'>\n",
      "Shape: (7145, 172)\n",
      "Dtype: float64\n"
     ]
    }
   ],
   "source": [
    "import numpy as np\n",
    "\n",
    "# First file\n",
    "data_graph = np.load(\"/home/exouser/cs768/mooc/ml_mooc.npy\", allow_pickle=True)\n",
    "print(\"ml_mooc.npy\")\n",
    "print(\"Type:\", type(data_graph))\n",
    "print(\"Shape:\", data_graph.shape)\n",
    "print(\"Dtype:\", data_graph.dtype)\n",
    "\n",
    "if data_graph.dtype == object:\n",
    "    graph_content = data_graph.item()\n",
    "    for k, v in graph_content.items():\n",
    "        print(f\"{k}: {type(v)}, shape={getattr(v, 'shape', 'N/A')}\")\n",
    "\n",
    "print(\"\\nml_mooc_nodes.npy\")\n",
    "# Second file\n",
    "data_nodes = np.load(\"/home/exouser/cs768/mooc/ml_mooc_node.npy\", allow_pickle=True)\n",
    "print(\"Type:\", type(data_nodes))\n",
    "print(\"Shape:\", data_nodes.shape)\n",
    "print(\"Dtype:\", data_nodes.dtype)\n",
    "\n",
    "if data_nodes.dtype == object:\n",
    "    node_content = data_nodes.item()\n",
    "    for k, v in node_content.items():\n",
    "        print(f\"{k}: {type(v)}, shape={getattr(v, 'shape', 'N/A')}\")\n"
   ]
  },
  {
   "cell_type": "code",
   "execution_count": 16,
   "id": "123695ad",
   "metadata": {},
   "outputs": [
    {
     "name": "stdout",
     "output_type": "stream",
     "text": [
      "          user_id   item_id  timestamp  state_label  \\\n",
      "0 0 0.0         0 -0.319991  -0.435701     0.106784   \n",
      "  1 6.0         0 -0.319991  -0.435701     0.106784   \n",
      "  2 41.0        0 -0.319991  -0.435701     0.106784   \n",
      "  1 49.0        0 -0.319991  -0.435701     0.106784   \n",
      "  2 51.0        0 -0.319991  -0.435701     0.106784   \n",
      "\n",
      "          comma_separated_list_of_features  \n",
      "0 0 0.0                          -0.067309  \n",
      "  1 6.0                          -0.067309  \n",
      "  2 41.0                         -0.067309  \n",
      "  1 49.0                         -0.067309  \n",
      "  2 51.0                         -0.067309  \n"
     ]
    }
   ],
   "source": [
    "import pandas as pd\n",
    "\n",
    "df = pd.read_csv(\"/home/exouser/cs768/mooc/mooc.csv\")\n",
    "print(df.head())"
   ]
  }
 ],
 "metadata": {
  "kernelspec": {
   "display_name": "graphs",
   "language": "python",
   "name": "python3"
  },
  "language_info": {
   "codemirror_mode": {
    "name": "ipython",
    "version": 3
   },
   "file_extension": ".py",
   "mimetype": "text/x-python",
   "name": "python",
   "nbconvert_exporter": "python",
   "pygments_lexer": "ipython3",
   "version": "3.10.16"
  }
 },
 "nbformat": 4,
 "nbformat_minor": 5
}
